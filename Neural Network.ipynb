{
 "cells": [
  {
   "cell_type": "code",
   "execution_count": 1,
   "metadata": {},
   "outputs": [],
   "source": [
    "import os\n",
    "import numpy as np"
   ]
  },
  {
   "cell_type": "markdown",
   "metadata": {},
   "source": [
    "# Downloading test & train dataset "
   ]
  },
  {
   "cell_type": "code",
   "execution_count": 2,
   "metadata": {},
   "outputs": [],
   "source": [
    "def load_dataset():\n",
    "    def download(filename, source= 'http://yann.lecun.com/exdb/mnist/'):\n",
    "        print('downloading', filename)\n",
    "        import urllib\n",
    "        urllib.request.urlretrieve(source+filename, filename)\n",
    "        \n",
    "    import gzip\n",
    "    \n",
    "    def load_mnist_images(filename):\n",
    "        if not os.path.exists(filename):\n",
    "            download(filename)\n",
    "        with gzip.open(filename,'rb') as f:\n",
    "            data = np.frombuffer(f.read(), np.uint8, offset=16)\n",
    "            data = data.reshape(-1,1,28,28)\n",
    "            #print(data[0])\n",
    "            return data/np.float32(256)\n",
    "    \n",
    "    def load_mnist_labels(filename):\n",
    "        if not os.path.exists(filename):\n",
    "            download(filename)\n",
    "        with gzip.open(filename,'rb') as f:\n",
    "            data = np.frombuffer(f.read(), np.uint8, offset=8)\n",
    "        return data\n",
    "    \n",
    "    x_trains = load_mnist_images('train-images-idx3-ubyte.gz')\n",
    "    y_trains = load_mnist_labels('train-labels-idx1-ubyte.gz')\n",
    "    x_test = load_mnist_images('t10k-images-idx3-ubyte.gz')\n",
    "    y_test = load_mnist_labels('t10k-labels-idx1-ubyte.gz')\n",
    "    \n",
    "    return x_trains, y_trains, x_test, y_test"
   ]
  },
  {
   "cell_type": "code",
   "execution_count": 3,
   "metadata": {},
   "outputs": [],
   "source": [
    "x_train, y_train, x_test, y_test = load_dataset()"
   ]
  },
  {
   "cell_type": "code",
   "execution_count": 3,
   "metadata": {},
   "outputs": [],
   "source": [
    "import matplotlib\n",
    "import matplotlib.pyplot as plt"
   ]
  },
  {
   "cell_type": "code",
   "execution_count": 5,
   "metadata": {},
   "outputs": [
    {
     "data": {
      "image/png": "[encoded data removed]",
      "text/plain": [
       "<Figure size 432x288 with 1 Axes>"
      ]
     },
     "metadata": {
      "needs_background": "light"
     },
     "output_type": "display_data"
    }
   ],
   "source": [
    "plt.show(plt.imshow(x_train[200][0]))"
   ]
  },
  {
   "cell_type": "code",
   "execution_count": null,
   "metadata": {},
   "outputs": [],
   "source": []
  },
  {
   "cell_type": "code",
   "execution_count": 6,
   "metadata": {},
   "outputs": [],
   "source": [
    "import lasagne\n",
    "import theano\n",
    "import theano.tensor as T\n",
    "\n",
    "def build_NN(input_var = None):\n",
    "    l_in = lasagne.layers.InputLayer( shape=(None, 1,28,28), input_var = input_var)\n",
    "    l_in_drop = lasagne.layers.DropoutLayer(l_in , p=0.2)\n",
    "    # 1st hidden layer\n",
    "    l_hid1 = lasagne.layers.DenseLayer(l_in_drop, num_units=800, \n",
    "                                        nonlinearity = lasagne.nonlinearities.rectify, W=lasagne.init.GlorotUniform())\n",
    "    l_hid1_drop = lasagne.layers.DropoutLayer(l_hid1 , p=0.5)\n",
    "    \n",
    "    # 2nd hidden layer\n",
    "    l_hid2 = lasagne.layers.DenseLayer(l_hid1_drop, num_units=800, \n",
    "                                        nonlinearity = lasagne.nonlinearities.rectify, W=lasagne.init.GlorotUniform())\n",
    "    l_hid2_drop = lasagne.layers.DropoutLayer(l_hid2 , p=0.5)\n",
    "    \n",
    "    # output layer\n",
    "    l_out = lasagne.layers.DenseLayer(l_hid2_drop, num_units=10, \n",
    "                                        nonlinearity = lasagne.nonlinearities.softmax)\n",
    "    #print(\"called\")\n",
    "    return l_out\n",
    "\n",
    "\n",
    "input_var = T.tensor4('input')\n",
    "target_var = T.ivector('target')\n",
    "network = build_NN(input_var)\n",
    "\n",
    "prediction = lasagne.layers.get_output(network)\n",
    "loss = lasagne.objectives.categorical_crossentropy(prediction, target_var)\n",
    "\n",
    "loss = loss.mean()\n",
    "params = lasagne.layers.get_all_params(network, trainable = True)\n",
    "updates = lasagne.updates.nesterov_momentum(loss, params, learning_rate =0.01, momentum =0.9)\n",
    "\n",
    "train_fn = theano.function([input_var, target_var], loss, updates = updates)\n"
   ]
  },
  {
   "cell_type": "code",
   "execution_count": 7,
   "metadata": {},
   "outputs": [
    {
     "name": "stdout",
     "output_type": "stream",
     "text": [
      "started0\n",
      "current step is 0\n"
     ]
    }
   ],
   "source": [
    "num_training_steps = 1\n",
    "\n",
    "for step in range(num_training_steps):\n",
    "    print(\"started\"+str(step))\n",
    "    train_err = train_fn(x_train,y_train)\n",
    "    print('current step is '+str(step))\n",
    "    "
   ]
  },
  {
   "cell_type": "code",
   "execution_count": 8,
   "metadata": {},
   "outputs": [],
   "source": [
    "test_prediction = lasagne.layers.get_output(network)\n",
    "val_fn  = theano.function([input_var], test_prediction)\n",
    "\n",
    "ans = val_fn([x_test[9]])\n",
    "digit = np.argmax(ans)"
   ]
  },
  {
   "cell_type": "code",
   "execution_count": 9,
   "metadata": {},
   "outputs": [
    {
     "name": "stdout",
     "output_type": "stream",
     "text": [
      "[[0.05605423 0.10248132 0.0971081  0.0728626  0.1239671  0.05083763\n",
      "  0.06196882 0.06688117 0.08436835 0.28347068]]   9\n"
     ]
    },
    {
     "data": {
      "image/png": "[encoded data removed]",
      "text/plain": [
       "<Figure size 432x288 with 1 Axes>"
      ]
     },
     "metadata": {
      "needs_background": "light"
     },
     "output_type": "display_data"
    }
   ],
   "source": [
    "print(ans,\" \",digit)\n",
    "plt.show(plt.imshow(x_test[9][0]))"
   ]
  },
  {
   "cell_type": "code",
   "execution_count": 10,
   "metadata": {},
   "outputs": [
    {
     "data": {
      "text/plain": [
       "9"
      ]
     },
     "execution_count": 10,
     "metadata": {},
     "output_type": "execute_result"
    }
   ],
   "source": [
    "y_test[9]"
   ]
  },
  {
   "cell_type": "code",
   "execution_count": 11,
   "metadata": {},
   "outputs": [
    {
     "data": {
      "text/plain": [
       "array(0.1066)"
      ]
     },
     "execution_count": 11,
     "metadata": {},
     "output_type": "execute_result"
    }
   ],
   "source": [
    "test_prediction = lasagne.layers.get_output(network , deterministic = True)\n",
    "test_acc = T.mean(T.eq(T.argmax(test_prediction, axis =1), target_var), dtype = theano.config.floatX)\n",
    "\n",
    "acc_fn = theano.function([input_var, target_var], test_acc)\n",
    "acc_fn(x_test , y_test)"
   ]
  },
  {
   "cell_type": "code",
   "execution_count": 12,
   "metadata": {},
   "outputs": [],
   "source": [
    "import pyttsx3\n",
    "import inflect"
   ]
  },
  {
   "cell_type": "code",
   "execution_count": 13,
   "metadata": {},
   "outputs": [],
   "source": [
    "def pred_number(number):\n",
    "    ans = val_fn([x_test[number]])\n",
    "    digit = np.argmax(ans)\n",
    "    return digit\n",
    "\n",
    "numbers=[]\n",
    "numbers.append(pred_number(9))\n",
    "numbers.append(pred_number(10))\n",
    "\n",
    "#plt.show(plt.imshow(x_test[9][0]))"
   ]
  },
  {
   "cell_type": "code",
   "execution_count": 14,
   "metadata": {},
   "outputs": [
    {
     "name": "stdout",
     "output_type": "stream",
     "text": [
      "78\n"
     ]
    }
   ],
   "source": [
    "number = 0\n",
    "for num in numbers:\n",
    "    number = number *10\n",
    "    number = number + num\n",
    "print(number)"
   ]
  },
  {
   "cell_type": "code",
   "execution_count": 15,
   "metadata": {},
   "outputs": [],
   "source": [
    "p = inflect.engine()\n",
    "words = p.number_to_words(number)"
   ]
  },
  {
   "cell_type": "code",
   "execution_count": 16,
   "metadata": {},
   "outputs": [],
   "source": [
    "engine = pyttsx3.init()\n",
    "engine.say(words)\n",
    "engine.runAndWait()"
   ]
  },
  {
   "cell_type": "code",
   "execution_count": 17,
   "metadata": {},
   "outputs": [
    {
     "data": {
      "text/plain": [
       "28"
      ]
     },
     "execution_count": 17,
     "metadata": {},
     "output_type": "execute_result"
    }
   ],
   "source": [
    "len(x_test[9][0])"
   ]
  },
  {
   "cell_type": "code",
   "execution_count": 4,
   "metadata": {},
   "outputs": [],
   "source": [
    "from PIL import Image, ImageFilter\n",
    "\n",
    "\n",
    "\n",
    "def imageprepare(argv):\n",
    "    \"\"\"\n",
    "    This function returns the pixel values.\n",
    "    The imput is a png file location.\n",
    "    \"\"\"\n",
    "    im = Image.open(argv).convert('L')\n",
    "    width = float(im.size[0])\n",
    "    height = float(im.size[1])\n",
    "    newImage = Image.new('L', (28, 28), (255))  # creates white canvas of 28x28 pixels\n",
    "\n",
    "    if width > height:  # check which dimension is bigger\n",
    "        # Width is bigger. Width becomes 20 pixels.\n",
    "        nheight = int(round((20.0 / width * height), 0))  # resize height according to ratio width\n",
    "        if (nheight == 0):  # rare case but minimum is 1 pixel\n",
    "            nheight = 1\n",
    "            # resize and sharpen\n",
    "        img = im.resize((20, nheight), Image.ANTIALIAS).filter(ImageFilter.SHARPEN)\n",
    "        wtop = int(round(((28 - nheight) / 2), 0))  # calculate horizontal position\n",
    "        newImage.paste(img, (4, wtop))  # paste resized image on white canvas\n",
    "    else:\n",
    "        # Height is bigger. Heigth becomes 20 pixels.\n",
    "        nwidth = int(round((20.0 / height * width), 0))  # resize width according to ratio height\n",
    "        if (nwidth == 0):  # rare case but minimum is 1 pixel\n",
    "            nwidth = 1\n",
    "            # resize and sharpen\n",
    "        img = im.resize((nwidth, 20), Image.ANTIALIAS).filter(ImageFilter.SHARPEN)\n",
    "        wleft = int(round(((28 - nwidth) / 2), 0))  # caculate vertical pozition\n",
    "        newImage.paste(img, (wleft, 4))  # paste resized image on white canvas\n",
    "\n",
    "    # newImage.save(\"sample.png\n",
    "\n",
    "    tv = list(newImage.getdata())  # get pixel values\n",
    "\n",
    "    # normalize pixels to 0 and 1. 0 is pure white, 1 is pure black.\n",
    "    tva = [(255 - x) * 1.0 / 255.0 for x in tv]\n",
    "    #print(tva)\n",
    "    return tva\n",
    "\n",
    "x=[imageprepare('./image.png')]#file path here\n",
    "#print(len(x))# mnist IMAGES are 28x28=784 pixels\n",
    "#print(x[0])\n",
    "#Now we convert 784 sized 1d array to 24x24 sized 2d array so that we can visualize it\n",
    "newArr=[[0 for d in range(28)] for y in range(28)]\n",
    "k = 0\n",
    "for i in range(28):\n",
    "    for j in range(28):\n",
    "        newArr[i][j]=x[0][k]\n",
    "        k=k+1\n"
   ]
  },
  {
   "cell_type": "code",
   "execution_count": 5,
   "metadata": {},
   "outputs": [
    {
     "data": {
      "image/png": "[encoded data removed]",
      "text/plain": [
       "<Figure size 432x288 with 1 Axes>"
      ]
     },
     "metadata": {
      "needs_background": "light"
     },
     "output_type": "display_data"
    }
   ],
   "source": [
    "plt.show(plt.imshow(newArr))"
   ]
  },
  {
   "cell_type": "code",
   "execution_count": 20,
   "metadata": {},
   "outputs": [],
   "source": [
    "result = val_fn([[newArr]])\n",
    "digits = np.argmax(ans)"
   ]
  },
  {
   "cell_type": "code",
   "execution_count": 21,
   "metadata": {},
   "outputs": [
    {
     "name": "stdout",
     "output_type": "stream",
     "text": [
      "[[0.13426529 0.1066145  0.08390186 0.06324212 0.09642446 0.05244022\n",
      "  0.05297332 0.18987836 0.13629407 0.08396579]]   9\n"
     ]
    }
   ],
   "source": [
    "print(result,\" \",digits)"
   ]
  },
  {
   "cell_type": "code",
   "execution_count": 2,
   "metadata": {},
   "outputs": [],
   "source": [
    "from tkinter import *\n",
    "from PIL import Image, ImageTk\n",
    "from tkinter import filedialog\n",
    "import matplotlib.image as mpimg\n",
    "%matplotlib qt"
   ]
  },
  {
   "cell_type": "code",
   "execution_count": 3,
   "metadata": {},
   "outputs": [],
   "source": [
    "def predict(path):\n",
    "    x=[imageprepare(path)]\n",
    "    \n",
    "    newArr=[[0 for d in range(28)] for y in range(28)]\n",
    "    k = 0\n",
    "    for i in range(28):\n",
    "        for j in range(28):\n",
    "            newArr[i][j]=x[0][k]\n",
    "            k=k+1\n",
    "    \n",
    "    plt.show(plt.imshow(newArr))        \n",
    "    result = val_fn([[newArr]])\n",
    "    #print(ans)\n",
    "    digits = np.argmax(ans)\n",
    "    return digits\n",
    "\n",
    "    "
   ]
  },
  {
   "cell_type": "code",
   "execution_count": 9,
   "metadata": {},
   "outputs": [],
   "source": [
    "root = Tk()\n",
    "root.title('Digit Recognizition')\n",
    "root.geometry(\"400x400\")\n",
    "mylabel = Label(root)\n",
    "\n",
    "\n",
    "'''root.filename = filedialog.askopenfilename(initialdir=\"G:\\ML\\digit recog\", title=\"Select a Image\", \n",
    "                                           filetypes=((\"png files\",\"*.png\"),(\"All Files\",\"*.*\")) )\n",
    "if root.filename != '':\n",
    "    #print(\"called \"+root.filename)\n",
    "    myimage = ImageTk.PhotoImage(Image.open(root.filename))\n",
    "    my_image_label = Label(root, image = myimage).pack()'''\n",
    "\n",
    "def img():\n",
    "    root.filename = filedialog.askopenfilename(initialdir=\"G:\\ML\\digit recog\", title=\"Select a Image\", \n",
    "                                           filetypes=((\"png files\",\"*.png\"),(\"All Files\",\"*.*\")) )\n",
    "    if root.filename != '':\n",
    "        #print(\"called fn \"+root.filename)\n",
    "        img = mpimg.imread(root.filename)\n",
    "        imgplot = plt.imshow(img)\n",
    "        plt.show()\n",
    "        #myimage = ImageTk.PhotoImage(Image.open(root.filename))\n",
    "        #my_image_label = Label(root, image = myimage).pack()\n",
    "\n",
    "\n",
    "def printpred():\n",
    "    #print(root.filename)\n",
    "    global mylabel\n",
    "    if mylabel:\n",
    "        mylabel.destroy()\n",
    "        \n",
    "    \n",
    "    val = predict(root.filename)\n",
    "    ans = \" predicted val is \"+str(val)\n",
    "    mylabel = Label(root , text= ans).pack()\n",
    "    #print(ans)\n",
    "\n",
    "pathbtn = Button(root, text= \"Selec Image\", command =img )\n",
    "pathbtn.pack(pady=10)\n",
    "    \n",
    "#mybutton = Button(root, text= \"Predict the Digit\", command =printpred )\n",
    "#mybutton.pack(pady=10)\n",
    "\n",
    "\n",
    "root.mainloop()"
   ]
  },
  {
   "cell_type": "code",
   "execution_count": null,
   "metadata": {},
   "outputs": [],
   "source": []
  },
  {
   "cell_type": "code",
   "execution_count": null,
   "metadata": {},
   "outputs": [],
   "source": []
  }
 ],
 "metadata": {
  "kernelspec": {
   "display_name": "Python 3",
   "language": "python",
   "name": "python3"
  },
  "language_info": {
   "codemirror_mode": {
    "name": "ipython",
    "version": 3
   },
   "file_extension": ".py",
   "mimetype": "text/x-python",
   "name": "python",
   "nbconvert_exporter": "python",
   "pygments_lexer": "ipython3",
   "version": "3.8.5"
  }
 },
 "nbformat": 4,
 "nbformat_minor": 4
}
